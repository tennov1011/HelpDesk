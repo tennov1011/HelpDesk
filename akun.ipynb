{
 "cells": [
  {
   "cell_type": "code",
   "execution_count": 1,
   "id": "cb13c721",
   "metadata": {},
   "outputs": [],
   "source": [
    "import pandas as pd"
   ]
  },
  {
   "cell_type": "code",
   "execution_count": 2,
   "id": "4ef35a90",
   "metadata": {},
   "outputs": [],
   "source": [
    "data = pd.read_csv(\"G:\\KP_Proyek\\AKUN EPI - System Account.csv\")"
   ]
  },
  {
   "cell_type": "code",
   "execution_count": 4,
   "id": "c674e549",
   "metadata": {},
   "outputs": [
    {
     "name": "stdout",
     "output_type": "stream",
     "text": [
      "     In System Approval? Unnamed: 1                        Email    Password\n",
      "0               Internal    Project                          NaN         NaN\n",
      "1                MANAGER        NaN                          NaN         NaN\n",
      "2                   TRUE       TRUE   general.manager@eltama.com   EpiGM@937\n",
      "3                   TRUE       TRUE     plant.manager@eltama.com   EpiPM@632\n",
      "4                   TRUE       TRUE  manager.produksi@eltama.com  EpiPRD@179\n",
      "...                  ...        ...                          ...         ...\n",
      "1025               FALSE      FALSE                          NaN         NaN\n",
      "1026               FALSE      FALSE                          NaN         NaN\n",
      "1027               FALSE      FALSE                          NaN         NaN\n",
      "1028               FALSE      FALSE                          NaN         NaN\n",
      "1029               FALSE      FALSE                          NaN         NaN\n",
      "\n",
      "[1030 rows x 4 columns]\n"
     ]
    }
   ],
   "source": [
    "print(data)"
   ]
  },
  {
   "cell_type": "code",
   "execution_count": 7,
   "id": "fb2aa16d",
   "metadata": {},
   "outputs": [
    {
     "name": "stdout",
     "output_type": "stream",
     "text": [
      "Jumlah baris setelah pembersihan: 55\n",
      "<class 'pandas.core.frame.DataFrame'>\n",
      "Index: 55 entries, 2 to 66\n",
      "Data columns (total 4 columns):\n",
      " #   Column               Non-Null Count  Dtype \n",
      "---  ------               --------------  ----- \n",
      " 0   In System Approval?  55 non-null     object\n",
      " 1   Unnamed: 1           55 non-null     object\n",
      " 2   Email                55 non-null     object\n",
      " 3   Password             55 non-null     object\n",
      "dtypes: object(4)\n",
      "memory usage: 2.1+ KB\n",
      "None\n"
     ]
    }
   ],
   "source": [
    "# Menghapus baris yang semua kolomnya NaN\n",
    "data = data.dropna(how='all')\n",
    "\n",
    "# Menghapus baris yang mengandung NaN di kolom tertentu\n",
    "data = data.dropna(subset=['Email', 'Password'])\n",
    "\n",
    "# Mengganti NaN dengan nilai tertentu\n",
    "data = data.fillna('')  # Ganti dengan string kosong\n",
    "data = data.fillna(0)   # Ganti dengan angka 0\n",
    "\n",
    "# Cek info data setelah pembersihan\n",
    "print(f\"Jumlah baris setelah pembersihan: {len(data)}\")\n",
    "print(data.info())"
   ]
  },
  {
   "cell_type": "code",
   "execution_count": 8,
   "id": "4db219f8",
   "metadata": {},
   "outputs": [
    {
     "name": "stdout",
     "output_type": "stream",
     "text": [
      "   In System Approval? Unnamed: 1                           Email     Password\n",
      "2                 TRUE       TRUE      general.manager@eltama.com    EpiGM@937\n",
      "3                 TRUE       TRUE        plant.manager@eltama.com    EpiPM@632\n",
      "4                 TRUE       TRUE     manager.produksi@eltama.com   EpiPRD@179\n",
      "5                 TRUE       TRUE  manager.maintenance@eltama.com    EpiMT@837\n",
      "6                 TRUE       TRUE    manager.marketing@eltama.com   EpiMKT@952\n",
      "7                 TRUE       TRUE           manager.it@eltama.com    EpiIT@137\n",
      "8                 TRUE       TRUE          manager.hrd@eltama.com   EpiHRD@714\n",
      "9                 TRUE       TRUE      manager.finance@eltama.com   EpiFNC@586\n",
      "10                TRUE       TRUE  manager.procurement@eltama.com   EpiPRC@631\n",
      "11                TRUE       TRUE    manager.inventory@eltama.com    EpiNV@412\n",
      "12                TRUE       TRUE      manager.project@eltama.com   EpiPRJ@694\n",
      "13                TRUE       TRUE              project@eltama.com   EpiPRJ@694\n",
      "14                TRUE       TRUE            inventory@eltama.com   EpiINV@749\n",
      "15                TRUE       TRUE          procurement@eltama.com   EpiPRC@518\n",
      "16                TRUE       TRUE                  hrd@eltama.com   EpiHRD@152\n",
      "17                TRUE       TRUE              finance@eltama.com   EpiFNC@294\n",
      "18                TRUE       TRUE            marketing@eltama.com   EpiMKT@610\n",
      "19                TRUE       TRUE             produksi@eltama.com   EpiPRD@851\n",
      "20                TRUE       TRUE             direktur@eltama.com   EpiDRT@471\n",
      "22                TRUE       TRUE               hafizh@eltama.com   Epihaf#801\n",
      "23                TRUE       TRUE                 adit@eltama.com   Epiadi#809\n",
      "24                TRUE       TRUE               vionda@eltama.com   Epivio#802\n",
      "26                TRUE       TRUE              yasinta@eltama.com   Epiyas#401\n",
      "27                TRUE       TRUE                  rio@eltama.com   Epirio#720\n",
      "29                TRUE       TRUE               achmad@eltama.com   Epiach#701\n",
      "30                TRUE       TRUE                 bayu@eltama.com   Epibay#450\n",
      "32                TRUE       TRUE             ciketing@eltama.com   EpiCKT#511\n",
      "33                TRUE       TRUE                anwar@eltama.com   Epianw#501\n",
      "34                TRUE       TRUE                ineke@eltama.com   Epiine#506\n",
      "35                TRUE       TRUE        admin.project@eltama.com  EpiADP#504!\n",
      "36               FALSE       TRUE                 nada@eltama.com   Epinad#507\n",
      "37               FALSE       TRUE                ridho@eltama.com   Epirid#513\n",
      "38               FALSE       TRUE                irfan@eltama.com   Epiirf#520\n",
      "39               FALSE       TRUE             julianto@eltama.com   Epijul#523\n",
      "40               FALSE       TRUE                panji@eltama.com   Epipan#526\n",
      "41               FALSE       TRUE               irsyad@eltama.com   Epiirs#529\n",
      "42               FALSE       TRUE               taufik@eltama.com   Epitau#535\n",
      "43               FALSE       TRUE                annga@eltama.com   Epiang#544\n",
      "44               FALSE       TRUE                  ryo@eltama.com   Epiang#549\n",
      "45               FALSE       TRUE                 desi@eltama.com   Epides#553\n",
      "46               FALSE       TRUE                tegar@eltama.com   Epiteg#561\n",
      "47               FALSE       TRUE                aulia@eltama.com   Epiaul#564\n",
      "48               FALSE      FALSE               reyhan@eltama.com   Epirhn#565\n",
      "51                TRUE       TRUE                surya@eltama.com   Episur#201\n",
      "52                TRUE       TRUE                alysa@eltama.com   Epialy#203\n",
      "53               FALSE       TRUE               ikhsan@eltama.com   Epiikh#204\n",
      "54               FALSE       TRUE                datus@eltama.com   Epidat#207\n",
      "55               FALSE       TRUE               marcel@eltama.com   Epimar#211\n",
      "56               FALSE       TRUE                micky@eltama.com   Epimic#218\n",
      "59                TRUE       TRUE                 aqsa@eltama.com   Epiaqs#101\n",
      "60                TRUE       TRUE              shakila@eltama.com   Episha#103\n",
      "61                TRUE       TRUE              prameta@eltama.com   Epieta#120\n",
      "62               FALSE       TRUE                  hrd@eltama.com  EpiHRD#101!\n",
      "64                TRUE       TRUE                niken@eltama.com   Epinik#301\n",
      "66                TRUE       TRUE                 novi@eltama.com   Epinov#601\n"
     ]
    }
   ],
   "source": [
    "print(data)"
   ]
  },
  {
   "cell_type": "code",
   "execution_count": 9,
   "id": "1608050e",
   "metadata": {},
   "outputs": [
    {
     "name": "stdout",
     "output_type": "stream",
     "text": [
      "Data berhasil diekspor ke Excel.\n"
     ]
    }
   ],
   "source": [
    "# Ekspor data yang sudah bersih ke file Excel\n",
    "data = data.dropna()  # Pastikan hanya data tanpa NaN\n",
    "data.to_excel(\"G:\\\\KP_Proyek\\\\AKUN_EPI_CLEAN.xlsx\", index=False)\n",
    "print(\"Data berhasil diekspor ke Excel.\")"
   ]
  },
  {
   "cell_type": "code",
   "execution_count": null,
   "id": "19195bfa",
   "metadata": {},
   "outputs": [],
   "source": []
  }
 ],
 "metadata": {
  "kernelspec": {
   "display_name": "base",
   "language": "python",
   "name": "python3"
  },
  "language_info": {
   "codemirror_mode": {
    "name": "ipython",
    "version": 3
   },
   "file_extension": ".py",
   "mimetype": "text/x-python",
   "name": "python",
   "nbconvert_exporter": "python",
   "pygments_lexer": "ipython3",
   "version": "3.11.4"
  }
 },
 "nbformat": 4,
 "nbformat_minor": 5
}
